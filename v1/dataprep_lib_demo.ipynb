{
 "cells": [
  {
   "cell_type": "code",
   "execution_count": 10,
   "id": "73f00d77-cc6b-4b3f-849b-801cc555c10b",
   "metadata": {},
   "outputs": [
    {
     "ename": "TypeError",
     "evalue": "MissingValueHandler() takes no arguments",
     "output_type": "error",
     "traceback": [
      "\u001b[1;31m---------------------------------------------------------------------------\u001b[0m",
      "\u001b[1;31mTypeError\u001b[0m                                 Traceback (most recent call last)",
      "Cell \u001b[1;32mIn[10], line 11\u001b[0m\n\u001b[0;32m      8\u001b[0m df \u001b[38;5;241m=\u001b[39m pd\u001b[38;5;241m.\u001b[39mread_csv(file_path)\n\u001b[0;32m     10\u001b[0m \u001b[38;5;66;03m# Handle missing values\u001b[39;00m\n\u001b[1;32m---> 11\u001b[0m missing_value_handler \u001b[38;5;241m=\u001b[39m MissingValueHandler(strategy\u001b[38;5;241m=\u001b[39m\u001b[38;5;124m'\u001b[39m\u001b[38;5;124mmean\u001b[39m\u001b[38;5;124m'\u001b[39m)\n\u001b[0;32m     12\u001b[0m df_cleaned \u001b[38;5;241m=\u001b[39m missing_value_handler\u001b[38;5;241m.\u001b[39mfit_transform(df)\n\u001b[0;32m     13\u001b[0m \u001b[38;5;28mprint\u001b[39m(\u001b[38;5;124m\"\u001b[39m\u001b[38;5;124mData after handling missing values:\u001b[39m\u001b[38;5;130;01m\\n\u001b[39;00m\u001b[38;5;124m\"\u001b[39m, df_cleaned\u001b[38;5;241m.\u001b[39mhead())\n",
      "\u001b[1;31mTypeError\u001b[0m: MissingValueHandler() takes no arguments"
     ]
    }
   ],
   "source": [
    "import pandas as pd\n",
    "from data_preprocessing_lib import MissingValueHandler, OutlierHandler, Scaler, TextCleaner, FeatureEngineer, DataTypeConverter, CategoricalEncoder, DateTimeHandler\n",
    "\n",
    "# File path to the dataset\n",
    "file_path = 'C:\\\\Users\\\\bayra\\\\Downloads\\\\synthetic_sample_data.csv'\n",
    "\n",
    "# Load the dataset\n",
    "df = pd.read_csv(file_path)\n",
    "\n",
    "# Handle missing values\n",
    "missing_value_handler = MissingValueHandler(strategy='mean')\n",
    "df_cleaned = missing_value_handler.fit_transform(df)\n",
    "print(\"Data after handling missing values:\\n\", df_cleaned.head())\n",
    "\n",
    "# Scale data\n",
    "scaler = Scaler(method='minmax')\n",
    "df_scaled = scaler.fit_transform(df_cleaned)\n",
    "print(\"Data after scaling:\\n\", df_scaled.head())\n",
    "\n",
    "# Assuming 'your_dataset.csv' is another dataset for the next example usage:\n",
    "# Replace 'your_dataset.csv' with the actual path if it's different\n",
    "df = pd.read_csv('C:\\\\Users\\\\bayra\\\\Downloads\\\\synthetic_sample_data.csv')\n",
    "\n",
    "# Handle missing values\n",
    "missing_value_handler = MissingValueHandler(strategy='mean')\n",
    "df = missing_value_handler.fit_transform(df)\n",
    "print(\"Data after handling missing values:\\n\", df.head())\n",
    "\n",
    "# Handle outliers\n",
    "outlier_handler = OutlierHandler(method='iqr')\n",
    "df = outlier_handler.fit_transform(df, columns=['column_name'])\n",
    "print(\"Data after handling outliers:\\n\", df.head())\n",
    "\n",
    "# Scale data\n",
    "scaler = Scaler(method='minmax')\n",
    "df = scaler.fit_transform(df)\n",
    "print(\"Data after scaling:\\n\", df.head())\n",
    "\n",
    "# Clean text\n",
    "text_cleaner = TextCleaner()\n",
    "df['text_column'] = text_cleaner.clean_column(df['text_column'])\n",
    "print(\"Data after cleaning text:\\n\", df.head())\n",
    "\n",
    "# Feature engineering\n",
    "feature_engineer = FeatureEngineer()\n",
    "df = feature_engineer.normalize_budget_by_year(df, 'budget_column', 'date_column')\n",
    "print(\"Data after feature engineering:\\n\", df.head())\n",
    "\n",
    "# Convert data types\n",
    "data_type_converter = DataTypeConverter()\n",
    "df = data_type_converter.to_numeric(df, 'column_name')\n",
    "print(\"Data after converting data types:\\n\", df.head())\n",
    "\n",
    "# Encode categorical data\n",
    "categorical_encoder = CategoricalEncoder()\n",
    "df = categorical_encoder.one_hot_encode(df, 'category_column')\n",
    "print(\"Data after encoding categorical data:\\n\", df.head())\n",
    "\n",
    "# Handle date and time\n",
    "datetime_handler = DateTimeHandler()\n",
    "df = datetime_handler.extract_date_parts(df, 'date_column')\n",
    "print(\"Data after handling date and time:\\n\", df.head())\n"
   ]
  }
 ],
 "metadata": {
  "kernelspec": {
   "display_name": "Python 3 (ipykernel)",
   "language": "python",
   "name": "python3"
  },
  "language_info": {
   "codemirror_mode": {
    "name": "ipython",
    "version": 3
   },
   "file_extension": ".py",
   "mimetype": "text/x-python",
   "name": "python",
   "nbconvert_exporter": "python",
   "pygments_lexer": "ipython3",
   "version": "3.11.7"
  }
 },
 "nbformat": 4,
 "nbformat_minor": 5
}
